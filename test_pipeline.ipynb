{
 "cells": [
  {
   "cell_type": "code",
   "execution_count": 1,
   "id": "5bef67c4-70bd-44d9-8a95-ee8f5a3702c1",
   "metadata": {},
   "outputs": [],
   "source": [
    "import os\n",
    "import pandas as pd\n",
    "import numpy as np\n",
    "import matplotlib.pyplot as plt\n",
    "import yaml\n"
   ]
  },
  {
   "cell_type": "code",
   "execution_count": 5,
   "id": "3b0e670a-c47c-4bfa-bd47-8e72bd5034ba",
   "metadata": {},
   "outputs": [],
   "source": [
    "import sys\n",
    "import os\n",
    "\n",
    "# Add the /src directory to the Python path\n",
    "src_path = os.path.join(current_dir, 'src\\\\ClassificationPipeline')\n",
    "\n",
    "# Add the src directory to the Python path\n",
    "sys.path.append(\"C:\\\\Users\\\\rida.amjad\\\\Python Preparation\\\\ML Project\\\\ClassificationPipeline\\\\src\\\\ClassificationPipeline\")\n"
   ]
  },
  {
   "cell_type": "code",
   "execution_count": 6,
   "id": "119801d8-b50e-40c5-a9c2-956f40e01057",
   "metadata": {},
   "outputs": [
    {
     "data": {
      "text/plain": [
       "'C:\\\\Users\\\\rida.amjad\\\\Python Preparation\\\\ML Project\\\\ClassificationPipeline'"
      ]
     },
     "execution_count": 6,
     "metadata": {},
     "output_type": "execute_result"
    }
   ],
   "source": [
    "os.getcwd()"
   ]
  },
  {
   "cell_type": "code",
   "execution_count": 9,
   "id": "e1d06429-8e16-4994-9ffc-cb3ffeff3c8b",
   "metadata": {},
   "outputs": [
    {
     "ename": "ModuleNotFoundError",
     "evalue": "No module named 'ClassificationPipeline'",
     "output_type": "error",
     "traceback": [
      "\u001b[1;31m---------------------------------------------------------------------------\u001b[0m",
      "\u001b[1;31mModuleNotFoundError\u001b[0m                       Traceback (most recent call last)",
      "Cell \u001b[1;32mIn[9], line 3\u001b[0m\n\u001b[0;32m      1\u001b[0m \u001b[38;5;66;03m# Now you can import the functions\u001b[39;00m\n\u001b[0;32m      2\u001b[0m \u001b[38;5;66;03m#from ClassificationPipeline.data import *\u001b[39;00m\n\u001b[1;32m----> 3\u001b[0m \u001b[38;5;28;01mfrom\u001b[39;00m \u001b[38;5;21;01mClassificationPipeline\u001b[39;00m\u001b[38;5;21;01m.\u001b[39;00m\u001b[38;5;21;01mfeatures\u001b[39;00m \u001b[38;5;28;01mimport\u001b[39;00m impute_numeric_feature, impute_categorical_feature\n",
      "\u001b[1;31mModuleNotFoundError\u001b[0m: No module named 'ClassificationPipeline'"
     ]
    }
   ],
   "source": [
    "# Now you can import the functions\n",
    "#from ClassificationPipeline.data import *\n",
    "from ClassificationPipeline.features import impute_numeric_feature, impute_categorical_feature\n",
    "#from ClassificationPipeline.model import run_lightgbm, train_test_split\n",
    "#from ClassificationPipeline.evaluate import model_evaluation\n",
    "#import ClassificationPipeline"
   ]
  }
 ],
 "metadata": {
  "kernelspec": {
   "display_name": "Python 3 (ipykernel)",
   "language": "python",
   "name": "python3"
  },
  "language_info": {
   "codemirror_mode": {
    "name": "ipython",
    "version": 3
   },
   "file_extension": ".py",
   "mimetype": "text/x-python",
   "name": "python",
   "nbconvert_exporter": "python",
   "pygments_lexer": "ipython3",
   "version": "3.11.7"
  }
 },
 "nbformat": 4,
 "nbformat_minor": 5
}
